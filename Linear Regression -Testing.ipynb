{
 "cells": [
  {
   "cell_type": "markdown",
   "id": "d5d0411c",
   "metadata": {},
   "source": [
    "### Linear Regression -Testing on USER input"
   ]
  },
  {
   "cell_type": "code",
   "execution_count": 1,
   "id": "8a8cadd3",
   "metadata": {},
   "outputs": [],
   "source": [
    "import pickle\n",
    "import numpy as np\n",
    "import pandas as pd"
   ]
  },
  {
   "cell_type": "markdown",
   "id": "64841e95",
   "metadata": {},
   "source": [
    "### Load Pickle File"
   ]
  },
  {
   "cell_type": "code",
   "execution_count": 2,
   "id": "2fab7110",
   "metadata": {},
   "outputs": [],
   "source": [
    "import pickle\n",
    "\n",
    "with open(\"linear_model.pkl\", \"rb\") as f:\n",
    "    new_model = pickle.load(f)"
   ]
  },
  {
   "cell_type": "code",
   "execution_count": 3,
   "id": "d7129c86",
   "metadata": {},
   "outputs": [
    {
     "name": "stdout",
     "output_type": "stream",
     "text": [
      "Predicted PRICE is --> 21.05 $\n"
     ]
    },
    {
     "name": "stderr",
     "output_type": "stream",
     "text": [
      "C:\\Python311\\Lib\\site-packages\\sklearn\\base.py:450: UserWarning: X does not have valid feature names, but LinearRegression was fitted with feature names\n",
      "  warnings.warn(\n"
     ]
    }
   ],
   "source": [
    "CRIM = 0.039\n",
    "ZN = 0.0\n",
    "INDUS = 5.35\n",
    "CHAS = 0.0\n",
    "NOX = 0.570\n",
    "RM = 6.91\n",
    "AGE = 40.5\n",
    "DIS = 6.5584\n",
    "RAD = 6.0\n",
    "TAX = 230.0\n",
    "PTRATIO = 22.2\n",
    "B = 392.4\n",
    "LSTAT = 6.80\n",
    "\n",
    "test_array = np.array([CRIM, ZN, INDUS, CHAS, NOX, RM, AGE, DIS, RAD, TAX, PTRATIO, B, LSTAT], ndmin = 2)\n",
    "\n",
    "pred_price = new_model.predict(test_array)[0]\n",
    "print(\"Predicted PRICE is -->\", np.around(pred_price,2), \"$\")"
   ]
  },
  {
   "cell_type": "code",
   "execution_count": null,
   "id": "3cfe83ed",
   "metadata": {},
   "outputs": [],
   "source": []
  }
 ],
 "metadata": {
  "kernelspec": {
   "display_name": "Python 3 (ipykernel)",
   "language": "python",
   "name": "python3"
  },
  "language_info": {
   "codemirror_mode": {
    "name": "ipython",
    "version": 3
   },
   "file_extension": ".py",
   "mimetype": "text/x-python",
   "name": "python",
   "nbconvert_exporter": "python",
   "pygments_lexer": "ipython3",
   "version": "3.11.0"
  }
 },
 "nbformat": 4,
 "nbformat_minor": 5
}
